{
  "nbformat": 4,
  "nbformat_minor": 0,
  "metadata": {
    "colab": {
      "name": "Topic Modelling with PySpark and Spark NLP.ipynb",
      "provenance": [],
      "collapsed_sections": [],
      "toc_visible": true,
      "authorship_tag": "ABX9TyNr7lVjIKHTZhPFmWXnnOj3",
      "include_colab_link": true
    },
    "kernelspec": {
      "name": "python3",
      "display_name": "Python 3"
    }
  },
  "cells": [
    {
      "cell_type": "markdown",
      "metadata": {
        "id": "view-in-github",
        "colab_type": "text"
      },
      "source": [
        "<a href=\"https://colab.research.google.com/github/maobedkova/TopicModelling_PySpark_SparkNLP/blob/master/Topic_Modelling_with_PySpark_and_Spark_NLP.ipynb\" target=\"_parent\"><img src=\"https://colab.research.google.com/assets/colab-badge.svg\" alt=\"Open In Colab\"/></a>"
      ]
    },
    {
      "cell_type": "markdown",
      "metadata": {
        "id": "1vt8L5e0mss0",
        "colab_type": "text"
      },
      "source": [
        "This is the tutorial for topic modelling using [PySpark](https://spark.apache.org/docs/latest/api/python/index.html) and [Spark NLP](https://www.johnsnowlabs.com/) libraries. This code could be seen as a complement of Topic Modelling with PySpark and Spark NLP blog post on medium. You could refer to this blog post for more elaborated explanation of topic modelling with PySpark and Spark NLP pipelines."
      ]
    },
    {
      "cell_type": "markdown",
      "metadata": {
        "id": "BIszqyp8lzSU",
        "colab_type": "text"
      },
      "source": [
        "# Installation"
      ]
    },
    {
      "cell_type": "markdown",
      "metadata": {
        "id": "CMxW9ewNmaPX",
        "colab_type": "text"
      },
      "source": [
        "The initial task is to install PySpark and Spark NLP libraries to our Google Collaboratory and set the data up. We can proceed with the following installation. We experiment with the latest versions of PySpark (2.4.5) and Spark NLP (2.4.5) to date. We also install `nltk` package because we will need it in one of the steps of our pipeline."
      ]
    },
    {
      "cell_type": "code",
      "metadata": {
        "id": "yPmFVedSA68v",
        "colab_type": "code",
        "outputId": "e6321efc-486a-4b66-c2bd-f18b3ba4e33a",
        "colab": {
          "base_uri": "https://localhost:8080/",
          "height": 423
        }
      },
      "source": [
        "import os\n",
        "\n",
        "# Install java\n",
        "! apt-get install -y openjdk-8-jdk-headless -qq > /dev/null\n",
        "os.environ[\"JAVA_HOME\"] = \"/usr/lib/jvm/java-8-openjdk-amd64\"\n",
        "os.environ[\"PATH\"] = os.environ[\"JAVA_HOME\"] + \"/bin:\" + os.environ[\"PATH\"]\n",
        "! java -version\n",
        "\n",
        "# Install pyspark\n",
        "! pip install --ignore-installed pyspark==2.4.5\n",
        "\n",
        "# Install Spark NLP\n",
        "! pip install --ignore-installed spark-nlp==2.4.5\n",
        "\n",
        "# Install nltk\n",
        "! pip install nltk"
      ],
      "execution_count": 0,
      "outputs": [
        {
          "output_type": "stream",
          "text": [
            "openjdk version \"1.8.0_252\"\n",
            "OpenJDK Runtime Environment (build 1.8.0_252-8u252-b09-1~18.04-b09)\n",
            "OpenJDK 64-Bit Server VM (build 25.252-b09, mixed mode)\n",
            "Collecting pyspark==2.4.5\n",
            "\u001b[?25l  Downloading https://files.pythonhosted.org/packages/9a/5a/271c416c1c2185b6cb0151b29a91fff6fcaed80173c8584ff6d20e46b465/pyspark-2.4.5.tar.gz (217.8MB)\n",
            "\u001b[K     |████████████████████████████████| 217.8MB 62kB/s \n",
            "\u001b[?25hCollecting py4j==0.10.7\n",
            "\u001b[?25l  Downloading https://files.pythonhosted.org/packages/e3/53/c737818eb9a7dc32a7cd4f1396e787bd94200c3997c72c1dbe028587bd76/py4j-0.10.7-py2.py3-none-any.whl (197kB)\n",
            "\u001b[K     |████████████████████████████████| 204kB 43.1MB/s \n",
            "\u001b[?25hBuilding wheels for collected packages: pyspark\n",
            "  Building wheel for pyspark (setup.py) ... \u001b[?25l\u001b[?25hdone\n",
            "  Created wheel for pyspark: filename=pyspark-2.4.5-py2.py3-none-any.whl size=218257927 sha256=c81cd9d8f8c82310412552dea935ee8664741a456a4a7347f9d58a1844cd98a9\n",
            "  Stored in directory: /root/.cache/pip/wheels/bf/db/04/61d66a5939364e756eb1c1be4ec5bdce6e04047fc7929a3c3c\n",
            "Successfully built pyspark\n",
            "Installing collected packages: py4j, pyspark\n",
            "Successfully installed py4j-0.10.7 pyspark-2.4.5\n",
            "Collecting spark-nlp==2.4.5\n",
            "\u001b[?25l  Downloading https://files.pythonhosted.org/packages/31/46/5c5a2bda407f693126386da5378f132e5e163fa6dfa46109548270348786/spark_nlp-2.4.5-py2.py3-none-any.whl (110kB)\n",
            "\u001b[K     |████████████████████████████████| 112kB 4.7MB/s \n",
            "\u001b[?25hInstalling collected packages: spark-nlp\n",
            "Successfully installed spark-nlp-2.4.5\n",
            "Requirement already satisfied: nltk in /usr/local/lib/python3.6/dist-packages (3.2.5)\n",
            "Requirement already satisfied: six in /usr/local/lib/python3.6/dist-packages (from nltk) (1.12.0)\n"
          ],
          "name": "stdout"
        }
      ]
    },
    {
      "cell_type": "markdown",
      "metadata": {
        "id": "KfgD9jhRrFEF",
        "colab_type": "text"
      },
      "source": [
        "We are going to use data from [Kaggle](https://www.kaggle.com//). I have chosen [Amazon Musical Instruments Review](https://www.kaggle.com/) dataset for our topic modelling analysis. The data is not that big to see the benefit of using Spark but it is nice for tutorial purposes. Unfortunately, you need to be registered to download the data. Sign in to Kaggle, go to `My Account` and create `New API Token`. This will download `kaggle.json` to your computer."
      ]
    },
    {
      "cell_type": "markdown",
      "metadata": {
        "id": "0qRFqVCfo_HY",
        "colab_type": "text"
      },
      "source": [
        "To use Google Drive where we will put our Kaggle data in Google Collaboratory we need to mount our Google Drive. Follow the instructions after you run the next cell."
      ]
    },
    {
      "cell_type": "code",
      "metadata": {
        "id": "sga628Xqypd6",
        "colab_type": "code",
        "outputId": "153b735c-aeb4-42f1-c3f9-51bedc5f7983",
        "colab": {
          "base_uri": "https://localhost:8080/",
          "height": 121
        }
      },
      "source": [
        "from google.colab import drive\n",
        "\n",
        "drive.mount('/content/gdrive')"
      ],
      "execution_count": 0,
      "outputs": [
        {
          "output_type": "stream",
          "text": [
            "Go to this URL in a browser: https://accounts.google.com/o/oauth2/auth?client_id=947318989803-6bn6qk8qdgf4n4g3pfee6491hc0brc4i.apps.googleusercontent.com&redirect_uri=urn%3aietf%3awg%3aoauth%3a2.0%3aoob&response_type=code&scope=email%20https%3a%2f%2fwww.googleapis.com%2fauth%2fdocs.test%20https%3a%2f%2fwww.googleapis.com%2fauth%2fdrive%20https%3a%2f%2fwww.googleapis.com%2fauth%2fdrive.photos.readonly%20https%3a%2f%2fwww.googleapis.com%2fauth%2fpeopleapi.readonly\n",
            "\n",
            "Enter your authorization code:\n",
            "··········\n",
            "Mounted at /content/gdrive\n"
          ],
          "name": "stdout"
        }
      ]
    },
    {
      "cell_type": "markdown",
      "metadata": {
        "id": "_6WvJGgvsTze",
        "colab_type": "text"
      },
      "source": [
        "We also need to upload `kaggle.json`. Follow the instructions after you run the next cell."
      ]
    },
    {
      "cell_type": "code",
      "metadata": {
        "id": "jvNOT0ZtqimJ",
        "colab_type": "code",
        "outputId": "1a196e5a-e9af-4b2a-d8d5-c1c3da5dec37",
        "colab": {
          "resources": {
            "http://localhost:8080/nbextensions/google.colab/files.js": {
              "data": "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",
              "ok": true,
              "headers": [
                [
                  "content-type",
                  "application/javascript"
                ]
              ],
              "status": 200,
              "status_text": ""
            }
          },
          "base_uri": "https://localhost:8080/",
          "height": 91
        }
      },
      "source": [
        "from google.colab import files\n",
        "\n",
        "files.upload()"
      ],
      "execution_count": 0,
      "outputs": [
        {
          "output_type": "display_data",
          "data": {
            "text/html": [
              "\n",
              "     <input type=\"file\" id=\"files-4054a1fb-57f2-4325-9ff8-36a6c6b71890\" name=\"files[]\" multiple disabled />\n",
              "     <output id=\"result-4054a1fb-57f2-4325-9ff8-36a6c6b71890\">\n",
              "      Upload widget is only available when the cell has been executed in the\n",
              "      current browser session. Please rerun this cell to enable.\n",
              "      </output>\n",
              "      <script src=\"/nbextensions/google.colab/files.js\"></script> "
            ],
            "text/plain": [
              "<IPython.core.display.HTML object>"
            ]
          },
          "metadata": {
            "tags": []
          }
        },
        {
          "output_type": "stream",
          "text": [
            "Saving kaggle.json to kaggle.json\n"
          ],
          "name": "stdout"
        },
        {
          "output_type": "execute_result",
          "data": {
            "text/plain": [
              "{'kaggle.json': b'{\"username\":\"mobedkova\",\"key\":\"9b55eaf04de29bbb751ddddbbe6a1e94\"}'}"
            ]
          },
          "metadata": {
            "tags": []
          },
          "execution_count": 3
        }
      ]
    },
    {
      "cell_type": "markdown",
      "metadata": {
        "id": "q9hibzBTstKT",
        "colab_type": "text"
      },
      "source": [
        "Further, we download the chosen Kaggle dataset to our Google Drive."
      ]
    },
    {
      "cell_type": "code",
      "metadata": {
        "id": "EpEqGfu5qvhf",
        "colab_type": "code",
        "outputId": "4ba668ea-7bb9-425a-93c4-239c8daa3813",
        "colab": {
          "base_uri": "https://localhost:8080/",
          "height": 118
        }
      },
      "source": [
        "!pip install -q kaggle\n",
        "!mkdir -p ~/.kaggle\n",
        "!cp kaggle.json ~/.kaggle/\n",
        "!ls ~/.kaggle\n",
        "!chmod 600 /root/.kaggle/kaggle.json\n",
        "!kaggle datasets download -d eswarchandt/amazon-music-reviews -p '/content/gdrive/My Drive/Colab Notebooks/data/'\n",
        "!unzip '/content/gdrive/My Drive/Colab Notebooks/data/amazon-music-reviews.zip' -d '/content/gdrive/My Drive/Colab Notebooks/data/'"
      ],
      "execution_count": 0,
      "outputs": [
        {
          "output_type": "stream",
          "text": [
            "kaggle.json\n",
            "amazon-music-reviews.zip: Skipping, found more recently modified local copy (use --force to force download)\n",
            "Archive:  /content/gdrive/My Drive/Colab Notebooks/data/amazon-music-reviews.zip\n",
            "  inflating: /content/gdrive/My Drive/Colab Notebooks/data/Musical_Instruments_5.json  \n",
            "replace /content/gdrive/My Drive/Colab Notebooks/data/Musical_instruments_reviews.csv? [y]es, [n]o, [A]ll, [N]one, [r]ename: y\n",
            "  inflating: /content/gdrive/My Drive/Colab Notebooks/data/Musical_instruments_reviews.csv  \n"
          ],
          "name": "stdout"
        }
      ]
    },
    {
      "cell_type": "markdown",
      "metadata": {
        "id": "5D07dyhss2Hk",
        "colab_type": "text"
      },
      "source": [
        "The data is ready to use. Let's start the Spark session through Spark NLP. If you need a special Spark session setting, you can start Spark session with `SparkSession.builder` from PySpark."
      ]
    },
    {
      "cell_type": "code",
      "metadata": {
        "id": "_E4acZCg8Ku8",
        "colab_type": "code",
        "colab": {}
      },
      "source": [
        "import sparknlp\n",
        "\n",
        "spark = sparknlp.start()"
      ],
      "execution_count": 0,
      "outputs": []
    },
    {
      "cell_type": "markdown",
      "metadata": {
        "id": "IdZPmaFPtwyq",
        "colab_type": "text"
      },
      "source": [
        "# Data"
      ]
    },
    {
      "cell_type": "markdown",
      "metadata": {
        "id": "Twlcj7xFt318",
        "colab_type": "text"
      },
      "source": [
        "Here we start our topic modelling tutorial. First, we access the downloaded data and read it into Spark dataframe."
      ]
    },
    {
      "cell_type": "code",
      "metadata": {
        "id": "19uyI_8dAd3j",
        "colab_type": "code",
        "colab": {}
      },
      "source": [
        "from pyspark.sql import functions as F\n",
        "\n",
        "data_path = '/content/gdrive/My Drive/Colab Notebooks/data/Musical_instruments_reviews.csv'\n",
        "data = spark.read.csv(data_path, header=True)"
      ],
      "execution_count": 0,
      "outputs": []
    },
    {
      "cell_type": "markdown",
      "metadata": {
        "id": "BohpGAxPuezM",
        "colab_type": "text"
      },
      "source": [
        "Let's checkout what kind of information is stored in our data."
      ]
    },
    {
      "cell_type": "code",
      "metadata": {
        "id": "x_4_zyfNBlzB",
        "colab_type": "code",
        "outputId": "2a8eb072-9792-449f-fe19-461453990db4",
        "colab": {
          "base_uri": "https://localhost:8080/",
          "height": 168
        }
      },
      "source": [
        "data.columns"
      ],
      "execution_count": 0,
      "outputs": [
        {
          "output_type": "execute_result",
          "data": {
            "text/plain": [
              "['reviewerID',\n",
              " 'asin',\n",
              " 'reviewerName',\n",
              " 'helpful',\n",
              " 'reviewText',\n",
              " 'overall',\n",
              " 'summary',\n",
              " 'unixReviewTime',\n",
              " 'reviewTime']"
            ]
          },
          "metadata": {
            "tags": []
          },
          "execution_count": 25
        }
      ]
    },
    {
      "cell_type": "markdown",
      "metadata": {
        "id": "o2yf6V87uk9F",
        "colab_type": "text"
      },
      "source": [
        "For topic modelling, we need only textual data, thus, we create a new dataframe only with the column of interest."
      ]
    },
    {
      "cell_type": "code",
      "metadata": {
        "id": "h71u8qFR7g40",
        "colab_type": "code",
        "colab": {}
      },
      "source": [
        "text_col = 'reviewText'\n",
        "review_text = data.select(text_col).filter(F.col(text_col).isNotNull())"
      ],
      "execution_count": 0,
      "outputs": []
    },
    {
      "cell_type": "markdown",
      "metadata": {
        "id": "quLpRWAEu2Gd",
        "colab_type": "text"
      },
      "source": [
        "The data that we will use further for the analysis looks as follows:"
      ]
    },
    {
      "cell_type": "code",
      "metadata": {
        "id": "cID1bvIuyWgn",
        "colab_type": "code",
        "outputId": "9055a979-00d4-49b2-b136-855cce645ca0",
        "colab": {
          "base_uri": "https://localhost:8080/",
          "height": 185
        }
      },
      "source": [
        "review_text.limit(5).show(truncate=70)"
      ],
      "execution_count": 0,
      "outputs": [
        {
          "output_type": "stream",
          "text": [
            "+----------------------------------------------------------------------+\n",
            "|                                                            reviewText|\n",
            "+----------------------------------------------------------------------+\n",
            "|                                                      that's just like|\n",
            "|The product does exactly as it should and is quite affordable.I did...|\n",
            "|The primary job of this device is to block the breath that would ot...|\n",
            "|Nice windscreen protects my MXL mic and prevents pops. Only thing i...|\n",
            "|This pop filter is great. It looks and performs like a studio filte...|\n",
            "+----------------------------------------------------------------------+\n",
            "\n"
          ],
          "name": "stdout"
        }
      ]
    },
    {
      "cell_type": "markdown",
      "metadata": {
        "id": "9hHCLbrpfSqO",
        "colab_type": "text"
      },
      "source": [
        "# Spark NLP pipeline"
      ]
    },
    {
      "cell_type": "markdown",
      "metadata": {
        "id": "i36XwEh8vL85",
        "colab_type": "text"
      },
      "source": [
        "Here we start our NLP pipeline for the task of topic modelling."
      ]
    },
    {
      "cell_type": "markdown",
      "metadata": {
        "id": "Pa4UrSFFvizm",
        "colab_type": "text"
      },
      "source": [
        "## Basic NLP pipeline"
      ]
    },
    {
      "cell_type": "markdown",
      "metadata": {
        "id": "ELN2q7q-vppo",
        "colab_type": "text"
      },
      "source": [
        "Let's start with basic NLP pipeline that clears the data and gets lemmatized unigrams. To understand how you can use Spark NLP annotators (estimators and transformers) for NLP pipeline, you can refer to [Spark NLP documentation](https://nlp.johnsnowlabs.com/) or a corresponding blog post on Topic Modelling with PySpark and Spark NLP."
      ]
    },
    {
      "cell_type": "markdown",
      "metadata": {
        "id": "4PjxUquwv83c",
        "colab_type": "text"
      },
      "source": [
        "We will start with [**DocumentAssembler**](https://nlp.johnsnowlabs.com/docs/en/transformers#documentassembler-getting-data-in) that converts data into Spark NLP annotation format that can be used by Spark NLP annotators."
      ]
    },
    {
      "cell_type": "code",
      "metadata": {
        "id": "XwOdzQ_PAJi0",
        "colab_type": "code",
        "colab": {}
      },
      "source": [
        "from sparknlp.base import DocumentAssembler\n",
        "\n",
        "documentAssembler = DocumentAssembler() \\\n",
        "     .setInputCol(text_col) \\\n",
        "     .setOutputCol('document')"
      ],
      "execution_count": 0,
      "outputs": []
    },
    {
      "cell_type": "markdown",
      "metadata": {
        "id": "facUm7iMwUKZ",
        "colab_type": "text"
      },
      "source": [
        "Next step is to tokenize data with [**Tokenizer**](https://nlp.johnsnowlabs.com/docs/en/annotators#tokenizer)."
      ]
    },
    {
      "cell_type": "code",
      "metadata": {
        "id": "IGOLmEzJDCYW",
        "colab_type": "code",
        "colab": {}
      },
      "source": [
        "from sparknlp.annotator import Tokenizer\n",
        "\n",
        "tokenizer = Tokenizer() \\\n",
        "     .setInputCols(['document']) \\\n",
        "     .setOutputCol('tokenized')"
      ],
      "execution_count": 0,
      "outputs": []
    },
    {
      "cell_type": "markdown",
      "metadata": {
        "id": "uA98q-HCxVjb",
        "colab_type": "text"
      },
      "source": [
        "Further, we clean our data and lowercase it with [**Normalizer**](https://nlp.johnsnowlabs.com/docs/en/annotators#normalizer)."
      ]
    },
    {
      "cell_type": "code",
      "metadata": {
        "id": "dTuQv1VXD8xu",
        "colab_type": "code",
        "colab": {}
      },
      "source": [
        "from sparknlp.annotator import Normalizer\n",
        "\n",
        "normalizer = Normalizer() \\\n",
        "     .setInputCols(['tokenized']) \\\n",
        "     .setOutputCol('normalized') \\\n",
        "     .setLowercase(True)"
      ],
      "execution_count": 0,
      "outputs": []
    },
    {
      "cell_type": "markdown",
      "metadata": {
        "id": "80FaYj0axg1r",
        "colab_type": "text"
      },
      "source": [
        "We are going to lemmatize our text with pretrained lemming model provided by Spark NLP. We can access this model with [**LemmatizerModel**](https://nlp.johnsnowlabs.com/docs/en/models#english---models)."
      ]
    },
    {
      "cell_type": "code",
      "metadata": {
        "id": "a1lvJInOEEAy",
        "colab_type": "code",
        "outputId": "8536f1a5-762b-41db-9715-5ab2d29fd45e",
        "colab": {
          "base_uri": "https://localhost:8080/",
          "height": 67
        }
      },
      "source": [
        "from sparknlp.annotator import LemmatizerModel\n",
        "\n",
        "lemmatizer = LemmatizerModel.pretrained() \\\n",
        "     .setInputCols(['normalized']) \\\n",
        "     .setOutputCol('lemmatized')"
      ],
      "execution_count": 0,
      "outputs": [
        {
          "output_type": "stream",
          "text": [
            "lemma_antbnc download started this may take some time.\n",
            "Approximate size to download 907.6 KB\n",
            "[OK!]\n"
          ],
          "name": "stdout"
        }
      ]
    },
    {
      "cell_type": "markdown",
      "metadata": {
        "id": "0-fkFtA9yNEc",
        "colab_type": "text"
      },
      "source": [
        "Spark NLP doesn't provide stop word list, hence, we will use `nltk` package to download stop words for English."
      ]
    },
    {
      "cell_type": "code",
      "metadata": {
        "id": "Um9iOifSft2t",
        "colab_type": "code",
        "outputId": "7dcf4d6f-6079-47e6-f07c-3d7037f400b5",
        "colab": {
          "base_uri": "https://localhost:8080/",
          "height": 50
        }
      },
      "source": [
        "import nltk\n",
        "nltk.download('stopwords')\n",
        "\n",
        "from nltk.corpus import stopwords\n",
        "\n",
        "eng_stopwords = stopwords.words('english')"
      ],
      "execution_count": 0,
      "outputs": [
        {
          "output_type": "stream",
          "text": [
            "[nltk_data] Downloading package stopwords to /root/nltk_data...\n",
            "[nltk_data]   Unzipping corpora/stopwords.zip.\n"
          ],
          "name": "stdout"
        }
      ]
    },
    {
      "cell_type": "markdown",
      "metadata": {
        "id": "zKDZh-kkybKt",
        "colab_type": "text"
      },
      "source": [
        "The downloaded list of stop words we will input into [**StopWordsCleaner**](https://nlp.johnsnowlabs.com/docs/en/annotators#stopwordscleaner) that will remove all such words from our lemmatized text."
      ]
    },
    {
      "cell_type": "code",
      "metadata": {
        "id": "RJOGb5argbrb",
        "colab_type": "code",
        "colab": {}
      },
      "source": [
        "from sparknlp.annotator import StopWordsCleaner\n",
        "\n",
        "stopwords_cleaner = StopWordsCleaner() \\\n",
        "     .setInputCols(['lemmatized']) \\\n",
        "     .setOutputCol('unigrams') \\\n",
        "     .setStopWords(eng_stopwords)"
      ],
      "execution_count": 0,
      "outputs": []
    },
    {
      "cell_type": "markdown",
      "metadata": {
        "id": "tW87_1g2yr3-",
        "colab_type": "text"
      },
      "source": [
        "In addition to unigrams, it is good to use n-grams for topic modelling as well since they help to better refine topics. We can get n-grams with [**NGramGenerator**](https://nlp.johnsnowlabs.com/docs/en/annotators#ngramgenerator) in Spark NLP."
      ]
    },
    {
      "cell_type": "code",
      "metadata": {
        "id": "OsftJKunZO84",
        "colab_type": "code",
        "colab": {}
      },
      "source": [
        "from sparknlp.annotator import NGramGenerator\n",
        "\n",
        "ngrammer = NGramGenerator() \\\n",
        "    .setInputCols(['lemmatized']) \\\n",
        "    .setOutputCol('ngrams') \\\n",
        "    .setN(3) \\\n",
        "    .setEnableCumulative(True) \\\n",
        "    .setDelimiter('_')"
      ],
      "execution_count": 0,
      "outputs": []
    },
    {
      "cell_type": "markdown",
      "metadata": {
        "id": "ymL8JUPrzV0R",
        "colab_type": "text"
      },
      "source": [
        "We already have our basic NLP pipeline for topic modelling with all necessary steps. However, let's use POS tagger in order to improve our processed data for topic modelling even more with POS tagged data later. For this, we are going to use pretrained POS tagging model provided by Spark NLP. We can access the model with [**PerceptronModel**](https://nlp.johnsnowlabs.com/docs/en/annotators#postagger)."
      ]
    },
    {
      "cell_type": "code",
      "metadata": {
        "id": "ilOwKkC20Xe5",
        "colab_type": "code",
        "outputId": "e468bd98-afdb-4e12-ddd1-ce2cd5965f5d",
        "colab": {
          "base_uri": "https://localhost:8080/",
          "height": 67
        }
      },
      "source": [
        "from sparknlp.annotator import PerceptronModel\n",
        "\n",
        "pos_tagger = PerceptronModel.pretrained('pos_anc') \\\n",
        "    .setInputCols(['document', 'lemmatized']) \\\n",
        "    .setOutputCol('pos')"
      ],
      "execution_count": 0,
      "outputs": [
        {
          "output_type": "stream",
          "text": [
            "pos_anc download started this may take some time.\n",
            "Approximate size to download 4.3 MB\n",
            "[OK!]\n"
          ],
          "name": "stdout"
        }
      ]
    },
    {
      "cell_type": "markdown",
      "metadata": {
        "id": "Hl6Xs_zE0Fc8",
        "colab_type": "text"
      },
      "source": [
        "Now we have everything in Spark NLP annotation format. To be able to process the data further, we need to tranform data with [**Finisher**](https://nlp.johnsnowlabs.com/docs/en/transformers#finisher)."
      ]
    },
    {
      "cell_type": "code",
      "metadata": {
        "id": "g3eYHx-KrDxU",
        "colab_type": "code",
        "colab": {}
      },
      "source": [
        "from sparknlp.base import Finisher\n",
        "\n",
        "finisher = Finisher() \\\n",
        "     .setInputCols(['unigrams', 'ngrams', 'pos']) \\"
      ],
      "execution_count": 0,
      "outputs": []
    },
    {
      "cell_type": "markdown",
      "metadata": {
        "id": "DP-kJKHQ0T8e",
        "colab_type": "text"
      },
      "source": [
        "Now we are ready to input everything into a pipeline. **Pipeline** functionality is accessible with PySpark."
      ]
    },
    {
      "cell_type": "code",
      "metadata": {
        "id": "Oo4ixwfsrMPh",
        "colab_type": "code",
        "colab": {}
      },
      "source": [
        "from pyspark.ml import Pipeline\n",
        "\n",
        "pipeline = Pipeline() \\\n",
        "     .setStages([documentAssembler,                  \n",
        "                 tokenizer,\n",
        "                 normalizer,                  \n",
        "                 lemmatizer,                  \n",
        "                 stopwords_cleaner, \n",
        "                 pos_tagger,\n",
        "                 ngrammer,  \n",
        "                 finisher])"
      ],
      "execution_count": 0,
      "outputs": []
    },
    {
      "cell_type": "markdown",
      "metadata": {
        "id": "0yXiHvEE0gYx",
        "colab_type": "text"
      },
      "source": [
        "First, we will fit all our estimators and then, transform the data with trained models and transformers."
      ]
    },
    {
      "cell_type": "code",
      "metadata": {
        "id": "pCkceTwhrOf0",
        "colab_type": "code",
        "colab": {}
      },
      "source": [
        "processed_review = pipeline.fit(review_text).transform(review_text)"
      ],
      "execution_count": 0,
      "outputs": []
    },
    {
      "cell_type": "markdown",
      "metadata": {
        "id": "t7ovKGdr0p6J",
        "colab_type": "text"
      },
      "source": [
        "Let's look at the data we finally get."
      ]
    },
    {
      "cell_type": "code",
      "metadata": {
        "id": "D-vuMJZD9Lwc",
        "colab_type": "code",
        "outputId": "dbe1ad06-c312-4927-99d4-87879c462e6e",
        "colab": {
          "base_uri": "https://localhost:8080/",
          "height": 205
        }
      },
      "source": [
        "processed_review.limit(5).show(truncate=65)"
      ],
      "execution_count": 0,
      "outputs": [
        {
          "output_type": "stream",
          "text": [
            "+-----------------------------------------------------------------+-----------------------------------------------------------------+-----------------------------------------------------------------+-----------------------------------------------------------------+\n",
            "|                                                       reviewText|                                                finished_unigrams|                                                  finished_ngrams|                                                     finished_pos|\n",
            "+-----------------------------------------------------------------+-----------------------------------------------------------------+-----------------------------------------------------------------+-----------------------------------------------------------------+\n",
            "|                                                 that's just like|                                                           [like]|         [that, just, like, that_just, just_like, that_just_like]|                                                     [IN, RB, IN]|\n",
            "|The product does exactly as it should and is quite affordable....|[product, exactly, quite, affordablei, realize, double, screen...|[the, product, do, exactly, as, it, should, and, be, quite, af...|[DT, NN, VBP, RB, IN, PRP, MD, CC, VB, RB, JJ, VBP, RB, VB, PR...|\n",
            "|The primary job of this device is to block the breath that wou...|[primary, job, device, block, breath, would, otherwise, produc...|[the, primary, job, of, this, device, be, to, block, the, brea...|[DT, JJ, NN, IN, DT, NN, VB, TO, VB, DT, NN, WDT, MD, RB, VB, ...|\n",
            "|Nice windscreen protects my MXL mic and prevents pops. Only th...|[nice, windscreen, protect, mxl, mic, prevent, pop, thing, goo...|[nice, windscreen, protect, i, mxl, mic, and, prevent, pop, on...|[JJ, NN, NN, NNP, NN, JJ, CC, VB, NN, RB, NN, VB, IN, DT, NN, ...|\n",
            "|This pop filter is great. It looks and performs like a studio ...|[pop, filter, great, look, perform, like, studio, filter, your...|[this, pop, filter, be, great, it, look, and, perform, like, a...|[DT, NN, NN, VB, JJ, PRP, VBP, CC, VB, IN, DT, NN, NN, IN, NN,...|\n",
            "+-----------------------------------------------------------------+-----------------------------------------------------------------+-----------------------------------------------------------------+-----------------------------------------------------------------+\n",
            "\n"
          ],
          "name": "stdout"
        }
      ]
    },
    {
      "cell_type": "markdown",
      "metadata": {
        "id": "_Oxvz01vfaq6",
        "colab_type": "text"
      },
      "source": [
        "## Extended NLP pipeline"
      ]
    },
    {
      "cell_type": "markdown",
      "metadata": {
        "id": "tNShG0il00g6",
        "colab_type": "text"
      },
      "source": [
        "Up to now, we have our data in a form of unigrams that are lemmatized, with no stop words in there. I think it is a good idea to incorporate n-grams into our NLP pipeline. We obtained n-grams as one step of our pipeline but now n-grams are messy and have a lot of questionable combinations in there. To tackle this problem, let's filter out strange combinations of words in n-grams based on their POS tags. We can imagine a list of viable combinations like ADJ + NOUN so let's restrict our POS combinations in n-grams to this list. Plus, we can also exclude some POS tags from our unigrams to ensure that we don't use functional words for topic modelling (they can be partially covered by stop words but probably not fully).\n",
        "\n",
        "Doing this POS-based filtering will significantly reduce the vocabulary size for topic modelling which will speed up the whole processing."
      ]
    },
    {
      "cell_type": "markdown",
      "metadata": {
        "id": "-FnnKmIf2Ssc",
        "colab_type": "text"
      },
      "source": [
        "Let's start this processing. First, we need join all our POS tags obtained previously."
      ]
    },
    {
      "cell_type": "code",
      "metadata": {
        "id": "WbPpOs8ndGE9",
        "colab_type": "code",
        "colab": {}
      },
      "source": [
        "from pyspark.sql import types as T\n",
        "\n",
        "udf_join_arr = F.udf(lambda x: ' '.join(x), T.StringType())\n",
        "processed_review  = processed_review.withColumn('finished_pos', udf_join_arr(F.col('finished_pos')))"
      ],
      "execution_count": 0,
      "outputs": []
    },
    {
      "cell_type": "markdown",
      "metadata": {
        "id": "IzSryqMc2an7",
        "colab_type": "text"
      },
      "source": [
        "Then we start another Spark NLP pipeline in order to get POS tag n-grams that correspond to word n-grams. We start with convertation into Spark NLP annotation format."
      ]
    },
    {
      "cell_type": "code",
      "metadata": {
        "id": "RrKEpmfoba6M",
        "colab_type": "code",
        "colab": {}
      },
      "source": [
        "pos_documentAssembler = DocumentAssembler() \\\n",
        "     .setInputCol('finished_pos') \\\n",
        "     .setOutputCol('pos_document')"
      ],
      "execution_count": 0,
      "outputs": []
    },
    {
      "cell_type": "markdown",
      "metadata": {
        "id": "smZ6-1dz2uf3",
        "colab_type": "text"
      },
      "source": [
        "Then, we tokenize our POS tags."
      ]
    },
    {
      "cell_type": "code",
      "metadata": {
        "id": "pyZdZ7S8aGZ9",
        "colab_type": "code",
        "colab": {}
      },
      "source": [
        "pos_tokenizer = Tokenizer() \\\n",
        "     .setInputCols(['pos_document']) \\\n",
        "     .setOutputCol('pos')"
      ],
      "execution_count": 0,
      "outputs": []
    },
    {
      "cell_type": "markdown",
      "metadata": {
        "id": "Z8kJmdm52w-M",
        "colab_type": "text"
      },
      "source": [
        "And generate n-grams from them in the same way we did that for words."
      ]
    },
    {
      "cell_type": "code",
      "metadata": {
        "id": "9QnL0zwrW_w-",
        "colab_type": "code",
        "colab": {}
      },
      "source": [
        "pos_ngrammer = NGramGenerator() \\\n",
        "    .setInputCols(['pos']) \\\n",
        "    .setOutputCol('pos_ngrams') \\\n",
        "    .setN(3) \\\n",
        "    .setEnableCumulative(True) \\\n",
        "    .setDelimiter('_')"
      ],
      "execution_count": 0,
      "outputs": []
    },
    {
      "cell_type": "markdown",
      "metadata": {
        "id": "vG3UTh0N23Yf",
        "colab_type": "text"
      },
      "source": [
        "Lastly, we are ready to get POS tags ngrams with **Finisher**."
      ]
    },
    {
      "cell_type": "code",
      "metadata": {
        "id": "CiUGFlMHZqIZ",
        "colab_type": "code",
        "colab": {}
      },
      "source": [
        "pos_finisher = Finisher() \\\n",
        "     .setInputCols(['pos', 'pos_ngrams']) \\"
      ],
      "execution_count": 0,
      "outputs": []
    },
    {
      "cell_type": "markdown",
      "metadata": {
        "id": "oSQ1XeNZ2--r",
        "colab_type": "text"
      },
      "source": [
        "We create this new Spark NLP pipeline..."
      ]
    },
    {
      "cell_type": "code",
      "metadata": {
        "id": "_-AufeTzbYwM",
        "colab_type": "code",
        "colab": {}
      },
      "source": [
        "pos_pipeline = Pipeline() \\\n",
        "     .setStages([pos_documentAssembler,                  \n",
        "                 pos_tokenizer,\n",
        "                 pos_ngrammer,  \n",
        "                 pos_finisher])"
      ],
      "execution_count": 0,
      "outputs": []
    },
    {
      "cell_type": "markdown",
      "metadata": {
        "id": "bxQJcpiA3EBg",
        "colab_type": "text"
      },
      "source": [
        "... and again fit it and transform the data."
      ]
    },
    {
      "cell_type": "code",
      "metadata": {
        "id": "0kfpx2azbmJI",
        "colab_type": "code",
        "colab": {}
      },
      "source": [
        "processed_review = pos_pipeline.fit(processed_review).transform(processed_review)"
      ],
      "execution_count": 0,
      "outputs": []
    },
    {
      "cell_type": "markdown",
      "metadata": {
        "id": "cUbDHzkZ3JzH",
        "colab_type": "text"
      },
      "source": [
        "Let's look what kind of data we have to operate with."
      ]
    },
    {
      "cell_type": "code",
      "metadata": {
        "id": "x0dBA85zf3Sd",
        "colab_type": "code",
        "outputId": "5eb70568-3ac8-4778-b120-d4e6ca6fa932",
        "colab": {
          "base_uri": "https://localhost:8080/",
          "height": 101
        }
      },
      "source": [
        "processed_review.columns"
      ],
      "execution_count": 0,
      "outputs": [
        {
          "output_type": "execute_result",
          "data": {
            "text/plain": [
              "['reviewText',\n",
              " 'finished_unigrams',\n",
              " 'finished_ngrams',\n",
              " 'finished_pos',\n",
              " 'finished_pos_ngrams']"
            ]
          },
          "metadata": {
            "tags": []
          },
          "execution_count": 48
        }
      ]
    },
    {
      "cell_type": "markdown",
      "metadata": {
        "id": "U5VXa6ir3Q97",
        "colab_type": "text"
      },
      "source": [
        "And these are our word n-grams with their corresponding pos n-grams."
      ]
    },
    {
      "cell_type": "code",
      "metadata": {
        "id": "dPRHCY32eKAH",
        "colab_type": "code",
        "outputId": "ec1623b1-f4a5-48c2-ba42-65b090de0d70",
        "colab": {
          "base_uri": "https://localhost:8080/",
          "height": 185
        }
      },
      "source": [
        "processed_review.select('finished_ngrams', 'finished_pos_ngrams').limit(5).show(truncate=70)"
      ],
      "execution_count": 0,
      "outputs": [
        {
          "output_type": "stream",
          "text": [
            "+----------------------------------------------------------------------+----------------------------------------------------------------------+\n",
            "|                                                       finished_ngrams|                                                   finished_pos_ngrams|\n",
            "+----------------------------------------------------------------------+----------------------------------------------------------------------+\n",
            "|              [that, just, like, that_just, just_like, that_just_like]|                                  [IN, RB, IN, IN_RB, RB_IN, IN_RB_IN]|\n",
            "|[the, product, do, exactly, as, it, should, and, be, quite, afforda...|[DT, NN, VBP, RB, IN, PRP, MD, CC, VB, RB, JJ, VBP, RB, VB, PRP, VB...|\n",
            "|[the, primary, job, of, this, device, be, to, block, the, breath, t...|[DT, JJ, NN, IN, DT, NN, VB, TO, VB, DT, NN, WDT, MD, RB, VB, DT, N...|\n",
            "|[nice, windscreen, protect, i, mxl, mic, and, prevent, pop, only, t...|[JJ, NN, NN, NNP, NN, JJ, CC, VB, NN, RB, NN, VB, IN, DT, NN, VB, R...|\n",
            "|[this, pop, filter, be, great, it, look, and, perform, like, a, stu...|[DT, NN, NN, VB, JJ, PRP, VBP, CC, VB, IN, DT, NN, NN, IN, NN, NN, ...|\n",
            "+----------------------------------------------------------------------+----------------------------------------------------------------------+\n",
            "\n"
          ],
          "name": "stdout"
        }
      ]
    },
    {
      "cell_type": "markdown",
      "metadata": {
        "id": "XCXs_3yNfXbG",
        "colab_type": "text"
      },
      "source": [
        "Now we are ready to filter out not useful for topic modelling analysis POS tags from our data. Let's create the function that does it for unigrams first. We create the custom Python function and then transform it to PySpark UDF to be used on Spark dataframe."
      ]
    },
    {
      "cell_type": "code",
      "metadata": {
        "id": "YhhKK97NfEbd",
        "colab_type": "code",
        "colab": {}
      },
      "source": [
        "def filter_pos(words, pos_tags):\n",
        "    return [word for word, pos in zip(words, pos_tags) \n",
        "            if pos in ['JJ', 'NN', 'NNS', 'VB', 'VBP']]\n",
        "\n",
        "udf_filter_pos = F.udf(filter_pos, T.ArrayType(T.StringType()))"
      ],
      "execution_count": 0,
      "outputs": []
    },
    {
      "cell_type": "markdown",
      "metadata": {
        "id": "k_hy63My3rrV",
        "colab_type": "text"
      },
      "source": [
        "Then, we apply this function on columns with unigrams and their POS tags to get filtered unigrams in a separate dataframe column."
      ]
    },
    {
      "cell_type": "code",
      "metadata": {
        "id": "rEx5CHyqfWeG",
        "colab_type": "code",
        "colab": {}
      },
      "source": [
        "processed_review = processed_review.withColumn('filtered_unigrams',\n",
        "                                               udf_filter_pos(F.col('finished_unigrams'), \n",
        "                                                              F.col('finished_pos')))"
      ],
      "execution_count": 0,
      "outputs": []
    },
    {
      "cell_type": "markdown",
      "metadata": {
        "id": "Yh1XVgPL4K6G",
        "colab_type": "text"
      },
      "source": [
        "That is how our filtered unigrams look like."
      ]
    },
    {
      "cell_type": "code",
      "metadata": {
        "id": "L22iUDgWgMVd",
        "colab_type": "code",
        "outputId": "d47f3199-9aa9-4992-afc6-bc43a6bb7116",
        "colab": {
          "base_uri": "https://localhost:8080/",
          "height": 185
        }
      },
      "source": [
        "processed_review.select('filtered_unigrams').limit(5).show(truncate=70)"
      ],
      "execution_count": 0,
      "outputs": [
        {
          "output_type": "stream",
          "text": [
            "+----------------------------------------------------------------------+\n",
            "|                                                     filtered_unigrams|\n",
            "+----------------------------------------------------------------------+\n",
            "|                                                                    []|\n",
            "|[exactly, quite, even, expectedas, add, one, carry, small, hint, gr...|\n",
            "|[job, device, would, otherwise, pop, allow, reduction, high, freque...|\n",
            "|[nice, windscreen, protect, mic, prevent, thing, gooseneck, able, h...|\n",
            "|[filter, great, look, perform, studio, youre, eliminate, pop, recor...|\n",
            "+----------------------------------------------------------------------+\n",
            "\n"
          ],
          "name": "stdout"
        }
      ]
    },
    {
      "cell_type": "markdown",
      "metadata": {
        "id": "GEDG4jfD4Rux",
        "colab_type": "text"
      },
      "source": [
        "It is time to filter out improper POS combinations of n-grams. We create the custom function in the same manner as before. Since we deal with bi- and trigrams, we need to restrict tags for both."
      ]
    },
    {
      "cell_type": "code",
      "metadata": {
        "id": "yJd-nLnxgd1g",
        "colab_type": "code",
        "colab": {}
      },
      "source": [
        "def filter_pos_combs(words, pos_tags):\n",
        "    return [word for word, pos in zip(words, pos_tags) \n",
        "            if (len(pos.split('_')) == 2 and \\\n",
        "                pos.split('_')[0] in ['JJ', 'NN', 'NNS', 'VB', 'VBP'] and \\\n",
        "                 pos.split('_')[1] in ['JJ', 'NN', 'NNS']) \\\n",
        "            or (len(pos.split('_')) == 3 and \\\n",
        "                pos.split('_')[0] in ['JJ', 'NN', 'NNS', 'VB', 'VBP'] and \\\n",
        "                 pos.split('_')[1] in ['JJ', 'NN', 'NNS', 'VB', 'VBP'] and \\\n",
        "                  pos.split('_')[2] in ['NN', 'NNS'])]\n",
        "    \n",
        "udf_filter_pos_combs = F.udf(filter_pos_combs, T.ArrayType(T.StringType()))"
      ],
      "execution_count": 0,
      "outputs": []
    },
    {
      "cell_type": "markdown",
      "metadata": {
        "id": "4Zjj8b9v425f",
        "colab_type": "text"
      },
      "source": [
        "And we call the function on word and POS n-grams."
      ]
    },
    {
      "cell_type": "code",
      "metadata": {
        "id": "QH1gNrz6giPU",
        "colab_type": "code",
        "colab": {}
      },
      "source": [
        "processed_review = processed_review.withColumn('filtered_ngrams',\n",
        "                                               udf_filter_pos_combs(F.col('finished_ngrams'),\n",
        "                                                                    F.col('finished_pos_ngrams')))"
      ],
      "execution_count": 0,
      "outputs": []
    },
    {
      "cell_type": "markdown",
      "metadata": {
        "id": "_kA7epRY5HYy",
        "colab_type": "text"
      },
      "source": [
        "Below is what we get after filtering for n-grams."
      ]
    },
    {
      "cell_type": "code",
      "metadata": {
        "id": "gcXY0eMChtTw",
        "colab_type": "code",
        "outputId": "47d631eb-0ca2-423e-9582-40a669c04b3d",
        "colab": {
          "base_uri": "https://localhost:8080/",
          "height": 185
        }
      },
      "source": [
        "processed_review.select('filtered_ngrams').limit(5).show(truncate=70)"
      ],
      "execution_count": 0,
      "outputs": [
        {
          "output_type": "stream",
          "text": [
            "+----------------------------------------------------------------------+\n",
            "|                                                       filtered_ngrams|\n",
            "+----------------------------------------------------------------------+\n",
            "|                                                                    []|\n",
            "|[be_double, double_screen, add_bonus, small_hint, old_grape, grape_...|\n",
            "|[primary_job, pop_sound, noticeable_reduction, high_frequency, doub...|\n",
            "|[nice_windscreen, windscreen_protect, mxl_mic, prevent_pop, require...|\n",
            "|[pop_filter, be_great, studio_filter, youre_record, record_vocal, g...|\n",
            "+----------------------------------------------------------------------+\n",
            "\n"
          ],
          "name": "stdout"
        }
      ]
    },
    {
      "cell_type": "markdown",
      "metadata": {
        "id": "ciCceJZH5NmN",
        "colab_type": "text"
      },
      "source": [
        "Now we have unigrams and n-grams stored in different columns in the dataframe. Let's combine them together."
      ]
    },
    {
      "cell_type": "code",
      "metadata": {
        "id": "GVNl50pI7U1S",
        "colab_type": "code",
        "colab": {}
      },
      "source": [
        "from pyspark.sql.functions import concat\n",
        "\n",
        "processed_review = processed_review.withColumn('final', concat(F.col('filtered_unigrams'), F.col('filtered_ngrams')))"
      ],
      "execution_count": 0,
      "outputs": []
    },
    {
      "cell_type": "markdown",
      "metadata": {
        "id": "7jxNhhjb5ZOt",
        "colab_type": "text"
      },
      "source": [
        "And this is our final look of the data."
      ]
    },
    {
      "cell_type": "code",
      "metadata": {
        "id": "k5HOIIzniFzz",
        "colab_type": "code",
        "outputId": "3f8f719a-e2cf-4b5f-9ca1-cd461b0a1603",
        "colab": {
          "base_uri": "https://localhost:8080/",
          "height": 205
        }
      },
      "source": [
        "processed_review.select('final').limit(5).show(truncate=False)"
      ],
      "execution_count": 0,
      "outputs": [
        {
          "output_type": "stream",
          "text": [
            "+-----------------------------------------------------------------------------------------------------------------------------------------------------------------------------------------------------------------------------------------------------------------------------------------------------------------------------------------------------------------------------------------------------------------------------------------+\n",
            "|final                                                                                                                                                                                                                                                                                                                                                                                                                                    |\n",
            "+-----------------------------------------------------------------------------------------------------------------------------------------------------------------------------------------------------------------------------------------------------------------------------------------------------------------------------------------------------------------------------------------------------------------------------------------+\n",
            "|[]                                                                                                                                                                                                                                                                                                                                                                                                                                       |\n",
            "|[exactly, quite, even, expectedas, add, one, carry, small, hint, grape, buy, put, next, nose, need, pop, work, well, may, please, aroma, like, product, be_double, double_screen, add_bonus, small_hint, old_grape, grape_candy, cannot_stop, pop_filter, filter_next, record_dif, pop_filter, please_aroma, be_double_screen, old_grape_candy]                                                                                          |\n",
            "|[job, device, would, otherwise, pop, allow, reduction, high, frequency, cloth, block, let, clamp, mount, mike, secure, enough, attach, goose, neck, need, coax, put, primary_job, pop_sound, noticeable_reduction, high_frequency, double_cloth, cloth_filter, filter_block, metal_clamp, clamp_mount, mount_attach, mike_stand, goose_neck, little_coax, double_cloth_filter, cloth_filter_block, metal_clamp_mount, clamp_mount_attach]|\n",
            "|[nice, windscreen, protect, mic, prevent, thing, gooseneck, able, hold, require, careful, avoid, nice_windscreen, windscreen_protect, mxl_mic, prevent_pop, require_careful, careful_position, avoid_sag, nice_windscreen_protect, require_careful_position]                                                                                                                                                                             |\n",
            "|[filter, great, look, perform, studio, youre, eliminate, pop, record, sing, pop_filter, be_great, studio_filter, youre_record, record_vocal, get_record]                                                                                                                                                                                                                                                                                 |\n",
            "+-----------------------------------------------------------------------------------------------------------------------------------------------------------------------------------------------------------------------------------------------------------------------------------------------------------------------------------------------------------------------------------------------------------------------------------------+\n",
            "\n"
          ],
          "name": "stdout"
        }
      ]
    },
    {
      "cell_type": "markdown",
      "metadata": {
        "id": "YkTzRKEzaYLM",
        "colab_type": "text"
      },
      "source": [
        "There are additional ways how we could provide cleaner data with Spark NLP for topic modelling analysis. For example: \n",
        "\n",
        "* You might want to incorporate [**SentenceDetector**](https://nlp.johnsnowlabs.com/docs/en/annotators#sentencedetector) in order to ignore n-grams on the borders of sentences since tokenization in Spark NLP does not account for sentence borders. \n",
        "\n",
        "* [**DependencyParser**](https://nlp.johnsnowlabs.com/docs/en/annotators#dependency-parsers) also could be used to provide more meaningful n-grams, namely the ones with dependency relation.\n",
        "\n",
        "* Spell checker also could be incorporated at the early steps of the NLP pipeline for less noisy results. There are various options in Spark NLP such as [**NorvigSpellChecker**](https://nlp.johnsnowlabs.com/docs/en/annotators#norvig-spellchecker) and [**SymmetricSpellChecker**](https://nlp.johnsnowlabs.com/docs/en/annotators#symmetric-spellchecker).\n",
        "\n",
        "However, in this tutorial we will omit these options since they probably will not bring significant improvements fot topic modelling."
      ]
    },
    {
      "cell_type": "markdown",
      "metadata": {
        "id": "-OTK4DVHxcR0",
        "colab_type": "text"
      },
      "source": [
        "# Vectorization "
      ]
    },
    {
      "cell_type": "markdown",
      "metadata": {
        "id": "OP4HlvFR5jXp",
        "colab_type": "text"
      },
      "source": [
        "Now we are set to vectorization of our data. First, we will proceed with **TF** (*term frequency*) vectorization with **CountVectorizer** in PySpark. We fit tf dictionary and then transform the data to vectors of counts."
      ]
    },
    {
      "cell_type": "code",
      "metadata": {
        "id": "tqGT4ss7r_w2",
        "colab_type": "code",
        "colab": {}
      },
      "source": [
        "from pyspark.ml.feature import CountVectorizer\n",
        "\n",
        "tfizer = CountVectorizer(inputCol='final', outputCol='tf_features')\n",
        "tf_model = tfizer.fit(processed_review)\n",
        "tf_result = tf_model.transform(processed_review)"
      ],
      "execution_count": 0,
      "outputs": []
    },
    {
      "cell_type": "markdown",
      "metadata": {
        "id": "217ZJrT76B2h",
        "colab_type": "text"
      },
      "source": [
        "After we get TF results, we can account for words that are frequent for all the documents. We can use **IDF** (*inverse document frequency*) to lower score of such words."
      ]
    },
    {
      "cell_type": "code",
      "metadata": {
        "id": "ox3dEUoyx2Ss",
        "colab_type": "code",
        "colab": {}
      },
      "source": [
        "from pyspark.ml.feature import IDF\n",
        "\n",
        "idfizer = IDF(inputCol='tf_features', outputCol='tf_idf_features')\n",
        "idf_model = idfizer.fit(tf_result)\n",
        "tfidf_result = idf_model.transform(tf_result)"
      ],
      "execution_count": 0,
      "outputs": []
    },
    {
      "cell_type": "markdown",
      "metadata": {
        "id": "ezlCICGwzvQu",
        "colab_type": "text"
      },
      "source": [
        "# LDA"
      ]
    },
    {
      "cell_type": "markdown",
      "metadata": {
        "id": "kelkPspY6okR",
        "colab_type": "text"
      },
      "source": [
        "Finally, we are ready to model topics in our data with [**LDA**](https://spark.apache.org/docs/2.2.0/ml-clustering.html#latent-dirichlet-allocation-lda) (*Latent Dirichlet Allocation*). To use the algorithm, we have to provide the number of topics we presume our data contains and the number of iterations for the LDA algorithm. Then, we initialize the model and train it."
      ]
    },
    {
      "cell_type": "code",
      "metadata": {
        "id": "ID3lf4GjzxJq",
        "colab_type": "code",
        "colab": {}
      },
      "source": [
        "from pyspark.ml.clustering import LDA\n",
        "\n",
        "num_topics = 6\n",
        "max_iter = 10\n",
        "\n",
        "lda = LDA(k=num_topics, maxIter=max_iter, featuresCol='tf_idf_features')\n",
        "lda_model = lda.fit(tfidf_result)"
      ],
      "execution_count": 0,
      "outputs": []
    },
    {
      "cell_type": "markdown",
      "metadata": {
        "id": "DslMpvbT7GXQ",
        "colab_type": "text"
      },
      "source": [
        "To be able to see words that characterize the defined topics, we need to convert word ids into actual words with the custom function. This function will again be converted to PySpark UDF to be used on our topic dataframe."
      ]
    },
    {
      "cell_type": "code",
      "metadata": {
        "id": "OxbhwXnQ0dEa",
        "colab_type": "code",
        "colab": {}
      },
      "source": [
        "vocab = tf_model.vocabulary\n",
        "\n",
        "def get_words(token_list):\n",
        "     return [vocab[token_id] for token_id in token_list]\n",
        "       \n",
        "udf_to_words = F.udf(get_words, T.ArrayType(T.StringType()))"
      ],
      "execution_count": 0,
      "outputs": []
    },
    {
      "cell_type": "markdown",
      "metadata": {
        "id": "GllCV-hw7fgL",
        "colab_type": "text"
      },
      "source": [
        "Let's define the number of top words per topic we would like to see and extract the words with our function."
      ]
    },
    {
      "cell_type": "code",
      "metadata": {
        "id": "Fhsk4J5p0lOm",
        "colab_type": "code",
        "outputId": "c2544996-b16a-4d40-a7f1-67f85465c232",
        "colab": {
          "base_uri": "https://localhost:8080/",
          "height": 202
        }
      },
      "source": [
        "num_top_words = 10\n",
        "\n",
        "topics = lda_model.describeTopics(num_top_words).withColumn('topicWords', udf_to_words(F.col('termIndices')))\n",
        "topics.select('topic', 'topicWords').show(truncate=65)"
      ],
      "execution_count": 0,
      "outputs": [
        {
          "output_type": "stream",
          "text": [
            "+-----+-----------------------------------------------------------------+\n",
            "|topic|                                                       topicWords|\n",
            "+-----+-----------------------------------------------------------------+\n",
            "|    0|  [string, use, pedal, guitar, tone, like, good, im, tune, sound]|\n",
            "|    1|[right_angle, phosphor_bronze, bronze, cable, use, stand, nano...|\n",
            "|    2| [string, guitar, use, sound, good, get, well, one, ive, quality]|\n",
            "|    3|[good, guitar, string, work, great, case, cable, sound, use, get]|\n",
            "|    4|    [pick, use, play, guitar, one, like, get, strap, stand, well]|\n",
            "|    5|  [amp, pedal, sound, guitar, great, one, turn, stand, work, use]|\n",
            "+-----+-----------------------------------------------------------------+\n",
            "\n"
          ],
          "name": "stdout"
        }
      ]
    },
    {
      "cell_type": "markdown",
      "metadata": {
        "id": "CcwVxupn7wKe",
        "colab_type": "text"
      },
      "source": [
        "And that's it! We are done with topic modelling pipeline on review data. I hope this tutorial was somehow helpful for you. Good luck with your own experiments!\n",
        "\n"
      ]
    },
    {
      "cell_type": "code",
      "metadata": {
        "id": "gV3LgSlX8Jlu",
        "colab_type": "code",
        "colab": {}
      },
      "source": [
        ""
      ],
      "execution_count": 0,
      "outputs": []
    }
  ]
}